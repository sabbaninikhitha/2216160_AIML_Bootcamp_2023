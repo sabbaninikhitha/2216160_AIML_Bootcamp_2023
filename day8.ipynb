{
  "nbformat": 4,
  "nbformat_minor": 0,
  "metadata": {
    "colab": {
      "provenance": [],
      "authorship_tag": "ABX9TyNgJVG3oDjQRJVw+3zETCCz",
      "include_colab_link": true
    },
    "kernelspec": {
      "name": "python3",
      "display_name": "Python 3"
    },
    "language_info": {
      "name": "python"
    }
  },
  "cells": [
    {
      "cell_type": "markdown",
      "metadata": {
        "id": "view-in-github",
        "colab_type": "text"
      },
      "source": [
        "<a href=\"https://colab.research.google.com/github/sabbaninikhitha/2216160_AIML_Bootcamp_2023/blob/main/day8.ipynb\" target=\"_parent\"><img src=\"https://colab.research.google.com/assets/colab-badge.svg\" alt=\"Open In Colab\"/></a>"
      ]
    },
    {
      "cell_type": "code",
      "execution_count": null,
      "metadata": {
        "id": "7y-AYLWhaYyo"
      },
      "outputs": [],
      "source": [
        "#file object=open(\"file name\",\"mode\")\n",
        "#x=create\n",
        "#r=read\n",
        "#w=writr\n",
        "#r+=read and write \n",
        "#w+=writr and read\n",
        "#rb=\n",
        "#wb\n",
        "#rb+\n",
        "#wb+\n",
        "#a=appends\n",
        "#a+=append and read\n",
        "#ab=\n",
        "#ab+\n"
      ]
    },
    {
      "cell_type": "code",
      "source": [
        "f=open(\"sample.txt\",\"x\")"
      ],
      "metadata": {
        "id": "kchr5EKDa7QO"
      },
      "execution_count": null,
      "outputs": []
    },
    {
      "cell_type": "code",
      "source": [
        "f=open(\"sample.txt\",\"w\")\n",
        "f.write(\"welcome to programing\")\n",
        "f.close()"
      ],
      "metadata": {
        "id": "9DDVLGy5bsph"
      },
      "execution_count": null,
      "outputs": []
    },
    {
      "cell_type": "code",
      "source": [
        "f=open(\"sample.txt\",\"r\")\n",
        "print(f.read(3))\n",
        "print(f.tell())\n",
        "print(f.seek(2))\n",
        "print(f.seek(0))\n",
        "print(f.readline())\n",
        "print(f.readlines())\n",
        "f.close()"
      ],
      "metadata": {
        "id": "xos0HN-3cY2z",
        "colab": {
          "base_uri": "https://localhost:8080/"
        },
        "outputId": "ef134135-0791-496d-80a0-79cf8513dbe3"
      },
      "execution_count": null,
      "outputs": [
        {
          "output_type": "stream",
          "name": "stdout",
          "text": [
            "wel\n",
            "3\n",
            "2\n",
            "0\n",
            "welcome to programing\n",
            "[]\n"
          ]
        }
      ]
    },
    {
      "cell_type": "code",
      "source": [
        "f1=open(\"f1.txt\",\"w\")\n",
        "f1.write(\"Copypaste\")\n",
        "f1.close()"
      ],
      "metadata": {
        "id": "OVLj8oyrfJdF"
      },
      "execution_count": null,
      "outputs": []
    },
    {
      "cell_type": "code",
      "source": [
        "f1=open(\"f1.txt\",\"r\")\n",
        "temp=f1.read()\n",
        "f1.close()\n",
        "f2=open(\"f2.txt\",\"w\")\n",
        "f2.write(temp)\n",
        "f2.close()"
      ],
      "metadata": {
        "id": "LF78wpkCfWhu"
      },
      "execution_count": null,
      "outputs": []
    },
    {
      "cell_type": "code",
      "source": [
        "#appenf\n",
        "#reverse palindrome\n",
        "#Armstrong \n",
        "#create dict and convert it to list"
      ],
      "metadata": {
        "id": "b-hW2h9offxk"
      },
      "execution_count": null,
      "outputs": []
    },
    {
      "cell_type": "code",
      "source": [
        "#pickling\n",
        "import pickle\n",
        "l=['a','b','c','d','e','f']\n",
        "f3=open(\"datafile.txt\",\"wb\")\n",
        "pickle.dump(l,f3)\n",
        "f3.close()\n",
        "#unpickle\n",
        "import pickle\n",
        "pickle_off=open(\"datafile.txt\",\"rb\")\n",
        "e=pickle.load(pickle_off)\n",
        "print(e)"
      ],
      "metadata": {
        "colab": {
          "base_uri": "https://localhost:8080/"
        },
        "id": "okA-7Im2gCAK",
        "outputId": "58471ad7-fc9c-4bce-b119-f865df5837aa"
      },
      "execution_count": null,
      "outputs": [
        {
          "output_type": "stream",
          "name": "stdout",
          "text": [
            "['a', 'b', 'c', 'd', 'e', 'f']\n"
          ]
        }
      ]
    },
    {
      "cell_type": "code",
      "source": [],
      "metadata": {
        "id": "-5ZWp2gZguZ7"
      },
      "execution_count": null,
      "outputs": []
    }
  ]
}