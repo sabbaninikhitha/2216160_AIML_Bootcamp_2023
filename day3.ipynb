{
  "nbformat": 4,
  "nbformat_minor": 0,
  "metadata": {
    "colab": {
      "provenance": [],
      "authorship_tag": "ABX9TyMu3jWHyNeH2uPfTg2LpqTm",
      "include_colab_link": true
    },
    "kernelspec": {
      "name": "python3",
      "display_name": "Python 3"
    },
    "language_info": {
      "name": "python"
    }
  },
  "cells": [
    {
      "cell_type": "markdown",
      "metadata": {
        "id": "view-in-github",
        "colab_type": "text"
      },
      "source": [
        "<a href=\"https://colab.research.google.com/github/sabbaninikhitha/2216160_AIML_Bootcamp_2023/blob/main/day3.ipynb\" target=\"_parent\"><img src=\"https://colab.research.google.com/assets/colab-badge.svg\" alt=\"Open In Colab\"/></a>"
      ]
    },
    {
      "cell_type": "code",
      "execution_count": 1,
      "metadata": {
        "colab": {
          "base_uri": "https://localhost:8080/"
        },
        "id": "dp8pLzdJDHTc",
        "outputId": "a36a73d3-3b8b-45c3-c2e0-0bec6f77bf4b"
      },
      "outputs": [
        {
          "output_type": "stream",
          "name": "stdout",
          "text": [
            "3\n",
            "2\n",
            "1\n",
            "5\n",
            "1\n",
            "6\n"
          ]
        }
      ],
      "source": [
        "#tuples-store multiple items in a single var\n",
        "my_tup=(1,2,3,4,5,1)\n",
        "my_tup1=(\"h1\",1.7,4,my_tup)\n",
        "\n",
        "n_tup=(\"Hii\",my_tup,my_tup1)\n",
        "print(n_tup[-1][-1][2])\n",
        "\n",
        "#tuple methods\n",
        "print(my_tup.count(1))\n",
        "print(my_tup.index(2))\n",
        "print(max(my_tup))\n",
        "print(min(my_tup))\n",
        "print(len(my_tup))"
      ]
    },
    {
      "cell_type": "code",
      "source": [
        "#sets\n",
        "my_set={1,2,3,4}\n",
        "set1={1,5.6,\"heyy\"}\n",
        "\n",
        "l=[1,5,8,2]\n",
        "print(l)\n",
        "set2=set(l)\n",
        "print(set2)\n",
        "\n",
        "#set methods\n",
        "my_set.add(5)\n",
        "print(my_set)\n",
        "\n",
        "my_set.update([5,6])\n",
        "print(my_set)\n",
        "\n",
        "my_set.discard(4)\n",
        "print(my_set)\n",
        "\n",
        "my_set.remove(5) #we will not get any error msg if not present\n",
        "print(my_set)\n",
        "\n",
        "#set opearations\n",
        "a={1,3,4,5}\n",
        "b={5,0,2,4}\n",
        "\n",
        "#union\n",
        "print(a|b)\n",
        "print(a.union(b))\n",
        "print(b.union(a))\n",
        "\n",
        "#intersection\n",
        "print(a&b)\n",
        "print(b.intersection(a))\n",
        "print(a.intersection(b))\n",
        "\n",
        "#difference\n",
        "print(a.difference(b))\n",
        "print(b.difference(a))"
      ],
      "metadata": {
        "colab": {
          "base_uri": "https://localhost:8080/"
        },
        "id": "eHUcjE1lDhQy",
        "outputId": "28f84bfe-5ae0-41dc-dfd9-f34cdb59955c"
      },
      "execution_count": 2,
      "outputs": [
        {
          "output_type": "stream",
          "name": "stdout",
          "text": [
            "[1, 5, 8, 2]\n",
            "{8, 1, 2, 5}\n",
            "{1, 2, 3, 4, 5}\n",
            "{1, 2, 3, 4, 5, 6}\n",
            "{1, 2, 3, 5, 6}\n",
            "{1, 2, 3, 6}\n",
            "{0, 1, 2, 3, 4, 5}\n",
            "{0, 1, 2, 3, 4, 5}\n",
            "{0, 1, 2, 3, 4, 5}\n",
            "{4, 5}\n",
            "{4, 5}\n",
            "{4, 5}\n",
            "{1, 3}\n",
            "{0, 2}\n"
          ]
        }
      ]
    },
    {
      "cell_type": "code",
      "source": [
        "print(my_set)\n",
        "my_set.discard(5)#we will not get any error  if no. not present\n",
        "print(my_set)\n",
        "\n",
        "my_set.remove(3) #we will get any error  if no. not present\n",
        "print(my_set)"
      ],
      "metadata": {
        "colab": {
          "base_uri": "https://localhost:8080/"
        },
        "id": "xJOswzHnDh8b",
        "outputId": "9dd55cb3-fad9-4e69-b270-8fa494965008"
      },
      "execution_count": 3,
      "outputs": [
        {
          "output_type": "stream",
          "name": "stdout",
          "text": [
            "{1, 2, 3, 6}\n",
            "{1, 2, 3, 6}\n",
            "{1, 2, 6}\n"
          ]
        }
      ]
    },
    {
      "cell_type": "code",
      "source": [
        "#dictionaries\n",
        "dict={\"name\":\"nikhitha\",2002:\"rno\"}\n",
        "print(dict[\"name\"])\n",
        "print(dict.keys())\n",
        "print(dict.values())\n",
        "print(dict.get(2002))"
      ],
      "metadata": {
        "colab": {
          "base_uri": "https://localhost:8080/"
        },
        "id": "6MNWK_6qDkYQ",
        "outputId": "c721494c-d64c-4301-be47-744250ed7795"
      },
      "execution_count": 5,
      "outputs": [
        {
          "output_type": "stream",
          "name": "stdout",
          "text": [
            "nikhitha\n",
            "dict_keys(['name', 2002])\n",
            "dict_values(['nikhitha', 'rno'])\n",
            "rno\n"
          ]
        }
      ]
    },
    {
      "cell_type": "code",
      "source": [],
      "metadata": {
        "id": "DVmlfTRdDr5b"
      },
      "execution_count": null,
      "outputs": []
    }
  ]
}