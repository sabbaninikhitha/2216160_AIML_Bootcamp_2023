{
  "nbformat": 4,
  "nbformat_minor": 0,
  "metadata": {
    "colab": {
      "provenance": [],
      "authorship_tag": "ABX9TyNi9hqhiAMzkzF0WP4cqpb1",
      "include_colab_link": true
    },
    "kernelspec": {
      "name": "python3",
      "display_name": "Python 3"
    },
    "language_info": {
      "name": "python"
    }
  },
  "cells": [
    {
      "cell_type": "markdown",
      "metadata": {
        "id": "view-in-github",
        "colab_type": "text"
      },
      "source": [
        "<a href=\"https://colab.research.google.com/github/sabbaninikhitha/2216160_AIML_Bootcamp_2023/blob/main/day2.ipynb\" target=\"_parent\"><img src=\"https://colab.research.google.com/assets/colab-badge.svg\" alt=\"Open In Colab\"/></a>"
      ]
    },
    {
      "cell_type": "code",
      "execution_count": null,
      "metadata": {
        "colab": {
          "base_uri": "https://localhost:8080/"
        },
        "id": "gfgoU8wdADxJ",
        "outputId": "e303aa18-3fe8-42ca-f8e6-f6d278848251"
      },
      "outputs": [
        {
          "output_type": "stream",
          "name": "stdout",
          "text": [
            "15\n",
            "5\n",
            "50\n",
            "100000\n",
            "2.0\n",
            "2\n",
            "0\n"
          ]
        }
      ],
      "source": [
        "#arithmetic opertaors\n",
        "a=10\n",
        "b=5\n",
        "print(a+b)\n",
        "print(a-b)\n",
        "print(a*b)\n",
        "print(a**b)\n",
        "print(a/b)\n",
        "print(a//b)\n",
        "print(a%b)"
      ]
    },
    {
      "cell_type": "code",
      "source": [
        "#comparison operators\n",
        "a==b\n",
        "a<=b\n",
        "a>=b\n",
        "a>>b\n",
        "a!=b"
      ],
      "metadata": {
        "colab": {
          "base_uri": "https://localhost:8080/"
        },
        "id": "LCu3jZBzA9zd",
        "outputId": "afb7e0d1-7240-494a-fd7c-70d02794dc4f"
      },
      "execution_count": null,
      "outputs": [
        {
          "output_type": "execute_result",
          "data": {
            "text/plain": [
              "True"
            ]
          },
          "metadata": {},
          "execution_count": 2
        }
      ]
    },
    {
      "cell_type": "code",
      "source": [
        "#assignment operators\n",
        "a=10\n",
        "b=5\n",
        "c=a+b\n",
        "c-=a\n",
        "c=c-a\n",
        "print(c)"
      ],
      "metadata": {
        "colab": {
          "base_uri": "https://localhost:8080/"
        },
        "id": "Lxsb6wk7A3Bu",
        "outputId": "554673c7-9817-4127-9d14-3e3c539c2ffe"
      },
      "execution_count": null,
      "outputs": [
        {
          "output_type": "stream",
          "name": "stdout",
          "text": [
            "-5\n"
          ]
        }
      ]
    },
    {
      "cell_type": "code",
      "source": [
        "#logical operators\n",
        "x=True\n",
        "y=False\n",
        "print(x and y)\n",
        "print(x or y)\n",
        "print(not y)"
      ],
      "metadata": {
        "colab": {
          "base_uri": "https://localhost:8080/"
        },
        "id": "mNTorymLBoMj",
        "outputId": "4137219c-094b-4021-b56d-a6a1e6845920"
      },
      "execution_count": null,
      "outputs": [
        {
          "output_type": "stream",
          "name": "stdout",
          "text": [
            "False\n",
            "True\n",
            "True\n"
          ]
        }
      ]
    },
    {
      "cell_type": "code",
      "source": [
        "#bitise opertaors\n",
        "a=13 #0000 1101\n",
        "b=14 #0000 1110\n",
        "print(a&b)#and\n",
        "print(a|b) #or\n",
        "print(~a)\n",
        "print(a>>2)\n",
        "print(a<<2)"
      ],
      "metadata": {
        "colab": {
          "base_uri": "https://localhost:8080/"
        },
        "id": "IoSRWOysCwTf",
        "outputId": "6d93f1ff-4ae3-43f3-9142-8ca0e33b648c"
      },
      "execution_count": null,
      "outputs": [
        {
          "output_type": "stream",
          "name": "stdout",
          "text": [
            "12\n",
            "15\n",
            "-14\n",
            "3\n",
            "52\n"
          ]
        }
      ]
    },
    {
      "cell_type": "code",
      "source": [
        "#membership opertors\n",
        "x=\"hello world\"\n",
        "print('w' in x)"
      ],
      "metadata": {
        "colab": {
          "base_uri": "https://localhost:8080/"
        },
        "id": "RPsn0SKmE1rN",
        "outputId": "1357a602-dc59-4008-f95e-123c5043cbaf"
      },
      "execution_count": null,
      "outputs": [
        {
          "output_type": "stream",
          "name": "stdout",
          "text": [
            "True\n"
          ]
        }
      ]
    },
    {
      "cell_type": "code",
      "source": [
        "#identity operator\n",
        "x1=5\n",
        "y1=5\n",
        "x2=\"hello\"\n",
        "y2=\"hello\"\n",
        "x3=[1,2,3]\n",
        "y3=[1,2,3]\n",
        "print(x1 is not y1)\n",
        "print(x2 is y2)\n",
        "print(x3 in y3)"
      ],
      "metadata": {
        "colab": {
          "base_uri": "https://localhost:8080/"
        },
        "id": "D3oILwExFEQd",
        "outputId": "175d64b1-a8e5-43b6-c6d2-a5e7e9169cf0"
      },
      "execution_count": null,
      "outputs": [
        {
          "output_type": "stream",
          "name": "stdout",
          "text": [
            "False\n",
            "True\n",
            "False\n"
          ]
        }
      ]
    },
    {
      "cell_type": "code",
      "source": [
        "a=input(\"enter string:\")\n",
        "print(a)\n",
        "b=input(\"enter string:\")\n",
        "print(b)\n"
      ],
      "metadata": {
        "colab": {
          "base_uri": "https://localhost:8080/"
        },
        "id": "cKrcsaDdF7Tl",
        "outputId": "79a9cd58-8425-4175-ef65-9513cb69c62e"
      },
      "execution_count": null,
      "outputs": [
        {
          "output_type": "stream",
          "name": "stdout",
          "text": [
            "enter string:sabbani\n",
            "sabbani\n",
            "enter string:nikhitha\n",
            "nikhitha\n"
          ]
        }
      ]
    },
    {
      "cell_type": "code",
      "source": [
        "#strings\n",
        "str=\"gradstellar\"\n",
        "#indexing\n",
        "print(str[0])\n",
        "print(str[-1])\n",
        "#slicing\n",
        "print(str[0:7:2])\n",
        "#reverse a string\n",
        "print(str[::-1])\n",
        "#string methods\n",
        "n=\"Im a Student\"\n",
        "print(n.upper())\n",
        "print(n.lower())"
      ],
      "metadata": {
        "colab": {
          "base_uri": "https://localhost:8080/"
        },
        "id": "j4P7GLFvHVBD",
        "outputId": "4b129c96-7d5f-44ad-db14-32ea0eecbf6e"
      },
      "execution_count": null,
      "outputs": [
        {
          "output_type": "stream",
          "name": "stdout",
          "text": [
            "g\n",
            "r\n",
            "gase\n",
            "ralletsdarg\n"
          ]
        }
      ]
    },
    {
      "cell_type": "code",
      "source": [
        "dir(str)"
      ],
      "metadata": {
        "colab": {
          "base_uri": "https://localhost:8080/"
        },
        "id": "vZ9czq_8Iab6",
        "outputId": "8bbc272c-68e4-42f2-b648-21c1ace85231"
      },
      "execution_count": null,
      "outputs": [
        {
          "output_type": "execute_result",
          "data": {
            "text/plain": [
              "['__add__',\n",
              " '__class__',\n",
              " '__contains__',\n",
              " '__delattr__',\n",
              " '__dir__',\n",
              " '__doc__',\n",
              " '__eq__',\n",
              " '__format__',\n",
              " '__ge__',\n",
              " '__getattribute__',\n",
              " '__getitem__',\n",
              " '__getnewargs__',\n",
              " '__gt__',\n",
              " '__hash__',\n",
              " '__init__',\n",
              " '__init_subclass__',\n",
              " '__iter__',\n",
              " '__le__',\n",
              " '__len__',\n",
              " '__lt__',\n",
              " '__mod__',\n",
              " '__mul__',\n",
              " '__ne__',\n",
              " '__new__',\n",
              " '__reduce__',\n",
              " '__reduce_ex__',\n",
              " '__repr__',\n",
              " '__rmod__',\n",
              " '__rmul__',\n",
              " '__setattr__',\n",
              " '__sizeof__',\n",
              " '__str__',\n",
              " '__subclasshook__',\n",
              " 'capitalize',\n",
              " 'casefold',\n",
              " 'center',\n",
              " 'count',\n",
              " 'encode',\n",
              " 'endswith',\n",
              " 'expandtabs',\n",
              " 'find',\n",
              " 'format',\n",
              " 'format_map',\n",
              " 'index',\n",
              " 'isalnum',\n",
              " 'isalpha',\n",
              " 'isascii',\n",
              " 'isdecimal',\n",
              " 'isdigit',\n",
              " 'isidentifier',\n",
              " 'islower',\n",
              " 'isnumeric',\n",
              " 'isprintable',\n",
              " 'isspace',\n",
              " 'istitle',\n",
              " 'isupper',\n",
              " 'join',\n",
              " 'ljust',\n",
              " 'lower',\n",
              " 'lstrip',\n",
              " 'maketrans',\n",
              " 'partition',\n",
              " 'replace',\n",
              " 'rfind',\n",
              " 'rindex',\n",
              " 'rjust',\n",
              " 'rpartition',\n",
              " 'rsplit',\n",
              " 'rstrip',\n",
              " 'split',\n",
              " 'splitlines',\n",
              " 'startswith',\n",
              " 'strip',\n",
              " 'swapcase',\n",
              " 'title',\n",
              " 'translate',\n",
              " 'upper',\n",
              " 'zfill']"
            ]
          },
          "metadata": {},
          "execution_count": 18
        }
      ]
    },
    {
      "cell_type": "code",
      "source": [
        "#string formats\n",
        "name=\"nikhitha\"\n",
        "language=\"English\"\n",
        "year=2023\n",
        "print(name,\"is teaching\",language,\"in\",year)\n",
        "#raw string\n",
        "print(f\"{name} is teaching {language}  in {year}\")"
      ],
      "metadata": {
        "colab": {
          "base_uri": "https://localhost:8080/"
        },
        "id": "_ToxkK-pJTK4",
        "outputId": "4aaab6a2-f6bb-4c6b-f266-49e4e931dcec"
      },
      "execution_count": null,
      "outputs": [
        {
          "output_type": "stream",
          "name": "stdout",
          "text": [
            "nikhitha is teaching English in 2023\n",
            "nikhitha is teaching English  in 2023\n"
          ]
        }
      ]
    },
    {
      "cell_type": "code",
      "source": [
        "#list\n",
        "list=[1,2,3,4]\n",
        "list1=[1,\"hello\",\"3.0\"]\n",
        "list2=[\"apple\",\"banana\",\"cherry\"]\n",
        "#indexing\n",
        "print(list[2])\n",
        "print(list[-1])\n",
        "#slicing\n",
        "print(list[:3])\n",
        "#nested list\n",
        "list3=[\"dragonfruit\",list,list[1]]\n",
        "print(list3[0][0:6])\n",
        "print(list3[0][6:11])\n",
        "list.append(5)\n",
        "print(list)\n",
        "l1=[4,1,4,5,6,7,89,0,1,2]\n",
        "print(l1.count(1))\n",
        "print(len(l1))\n",
        "l1.reverse()\n",
        "print(l1)\n",
        "l1.sort()\n"
      ],
      "metadata": {
        "colab": {
          "base_uri": "https://localhost:8080/"
        },
        "id": "I-4E_gxpLIbG",
        "outputId": "709835d7-508f-433e-ba43-66faaaa339d4"
      },
      "execution_count": null,
      "outputs": [
        {
          "output_type": "stream",
          "name": "stdout",
          "text": [
            "3\n",
            "4\n",
            "[1, 2, 3]\n",
            "dragon\n",
            "fruit\n",
            "[1, 2, 3, 4, 5]\n",
            "2\n",
            "10\n",
            "[2, 1, 0, 89, 7, 6, 5, 4, 1, 4]\n"
          ]
        }
      ]
    },
    {
      "cell_type": "code",
      "source": [],
      "metadata": {
        "id": "JpnyAqI0SDY-"
      },
      "execution_count": null,
      "outputs": []
    }
  ]
}