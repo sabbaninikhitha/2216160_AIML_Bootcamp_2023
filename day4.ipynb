{
  "nbformat": 4,
  "nbformat_minor": 0,
  "metadata": {
    "colab": {
      "provenance": [],
      "authorship_tag": "ABX9TyNtoQ7ZmSw7rnbvI3IyhfbE",
      "include_colab_link": true
    },
    "kernelspec": {
      "name": "python3",
      "display_name": "Python 3"
    },
    "language_info": {
      "name": "python"
    }
  },
  "cells": [
    {
      "cell_type": "markdown",
      "metadata": {
        "id": "view-in-github",
        "colab_type": "text"
      },
      "source": [
        "<a href=\"https://colab.research.google.com/github/sabbaninikhitha/2216160_AIML_Bootcamp_2023/blob/main/day4.ipynb\" target=\"_parent\"><img src=\"https://colab.research.google.com/assets/colab-badge.svg\" alt=\"Open In Colab\"/></a>"
      ]
    },
    {
      "cell_type": "code",
      "execution_count": null,
      "metadata": {
        "colab": {
          "base_uri": "https://localhost:8080/"
        },
        "id": "dNJshB0gfmFl",
        "outputId": "db397812-9fce-42c6-9150-96444f309d12"
      },
      "outputs": [
        {
          "output_type": "stream",
          "name": "stdout",
          "text": [
            "TRUE\n",
            "100\n"
          ]
        }
      ],
      "source": [
        "#if statemnet\n",
        "var=100\n",
        "if var>0:\n",
        "  print(\"TRUE\")\n",
        "  print(var)    "
      ]
    },
    {
      "cell_type": "code",
      "source": [
        " #if..else statement \n",
        " var=-1\n",
        "if var>0:\n",
        "  print(\"true\")\n",
        "else:\n",
        "  print(\"false\")"
      ],
      "metadata": {
        "colab": {
          "base_uri": "https://localhost:8080/"
        },
        "id": "SCE-LNMUgV9z",
        "outputId": "d4ecfa5e-58fb-4d1f-ff9f-a1af8f01f83f"
      },
      "execution_count": null,
      "outputs": [
        {
          "output_type": "stream",
          "name": "stdout",
          "text": [
            "false\n"
          ]
        }
      ]
    },
    {
      "cell_type": "code",
      "source": [
        "#nested if statements \n",
        "age=int(input(\"enter age\"))\n",
        "if age>0:\n",
        "  if age>0 and age<=2:\n",
        "    print(\"free ticket\")\n",
        "  elif age>2 and age<15:\n",
        "    print(\"half ticket\")\n",
        "  elif age>=15 and age<60:\n",
        "    print(\"full ticket\")\n",
        "  elif age>=60:\n",
        "    print(\"discounted ticket\")"
      ],
      "metadata": {
        "colab": {
          "base_uri": "https://localhost:8080/"
        },
        "id": "Be-QVAczgbD2",
        "outputId": "6c658a74-f48f-4432-a051-2dfda978eb09"
      },
      "execution_count": null,
      "outputs": [
        {
          "output_type": "stream",
          "name": "stdout",
          "text": [
            "enter age20\n",
            "full ticket\n"
          ]
        }
      ]
    },
    {
      "cell_type": "code",
      "source": [
        "#loops\n",
        "numbers=[1,2,3,4,5,6,7,8,9,10]\n",
        "for i in range(1,11):\n",
        "  print(i)\n",
        "sum=0\n",
        "for val in numbers:\n",
        "  sum=sum+val\n",
        "print(\"the sum is\",sum)"
      ],
      "metadata": {
        "id": "AAZxn9Phhb3g",
        "colab": {
          "base_uri": "https://localhost:8080/"
        },
        "outputId": "327fa9bb-9f90-447d-90db-43cf7c2e7c74"
      },
      "execution_count": 2,
      "outputs": [
        {
          "output_type": "stream",
          "name": "stdout",
          "text": [
            "1\n",
            "2\n",
            "3\n",
            "4\n",
            "5\n",
            "6\n",
            "7\n",
            "8\n",
            "9\n",
            "10\n",
            "the sum is 55\n"
          ]
        }
      ]
    },
    {
      "cell_type": "code",
      "source": [
        "#while loop\n",
        "count=1\n",
        "while(count<11):\n",
        "  print(count)\n",
        "  count=count+1\n"
      ],
      "metadata": {
        "colab": {
          "base_uri": "https://localhost:8080/"
        },
        "id": "WQ_lPCzJSYEo",
        "outputId": "7d01c185-d31c-4a23-d696-ab39ccab6c57"
      },
      "execution_count": 3,
      "outputs": [
        {
          "output_type": "stream",
          "name": "stdout",
          "text": [
            "1\n",
            "2\n",
            "3\n",
            "4\n",
            "5\n",
            "6\n",
            "7\n",
            "8\n",
            "9\n",
            "10\n"
          ]
        }
      ]
    },
    {
      "cell_type": "code",
      "source": [
        "#nested loop\n",
        "x=[[12,7,3],[4,5,6],[7,8,6]]\n",
        "y=[[5,8,1],\n",
        "   [1,1,0],\n",
        "   [5,3,0]]\n",
        "res=[[0,0,0],[0,0,0],[0,0,0]]\n",
        "for i in range(len(x)):\n",
        "  for j in range(len(x[0])):\n",
        "    res[i][j]=x[i][j]+y[i][j]\n",
        "for r in res:\n",
        "  print(r)"
      ],
      "metadata": {
        "colab": {
          "base_uri": "https://localhost:8080/"
        },
        "id": "HqB-NNBCS5MK",
        "outputId": "57980115-6f38-4b93-a6cf-1a5d5d4ac388"
      },
      "execution_count": 9,
      "outputs": [
        {
          "output_type": "stream",
          "name": "stdout",
          "text": [
            "[17, 15, 4]\n",
            "[5, 6, 6]\n",
            "[12, 11, 6]\n"
          ]
        }
      ]
    },
    {
      "cell_type": "code",
      "source": [
        "#nested while loop\n",
        "num=int(input('enter until which table you need'))\n",
        "i=1\n",
        "while(i<=num):\n",
        "  print(f\"table{i}\")\n",
        "  j=1\n",
        "  while(j<=10):\n",
        "    print(f'{i}*{j}={i*j}')\n",
        "    j=j+1\n",
        "  print(\"________\")\n",
        "  i=i+1"
      ],
      "metadata": {
        "colab": {
          "base_uri": "https://localhost:8080/"
        },
        "id": "0ZS46we8UIIu",
        "outputId": "09269ae8-7b85-4100-f505-7501a6c60a1a"
      },
      "execution_count": 11,
      "outputs": [
        {
          "output_type": "stream",
          "name": "stdout",
          "text": [
            "enter until which table you need4\n",
            "table1\n",
            "1*1=1\n",
            "1*2=2\n",
            "1*3=3\n",
            "1*4=4\n",
            "1*5=5\n",
            "1*6=6\n",
            "1*7=7\n",
            "1*8=8\n",
            "1*9=9\n",
            "1*10=10\n",
            "________\n",
            "table2\n",
            "2*1=2\n",
            "2*2=4\n",
            "2*3=6\n",
            "2*4=8\n",
            "2*5=10\n",
            "2*6=12\n",
            "2*7=14\n",
            "2*8=16\n",
            "2*9=18\n",
            "2*10=20\n",
            "________\n",
            "table3\n",
            "3*1=3\n",
            "3*2=6\n",
            "3*3=9\n",
            "3*4=12\n",
            "3*5=15\n",
            "3*6=18\n",
            "3*7=21\n",
            "3*8=24\n",
            "3*9=27\n",
            "3*10=30\n",
            "________\n",
            "table4\n",
            "4*1=4\n",
            "4*2=8\n",
            "4*3=12\n",
            "4*4=16\n",
            "4*5=20\n",
            "4*6=24\n",
            "4*7=28\n",
            "4*8=32\n",
            "4*9=36\n",
            "4*10=40\n",
            "________\n"
          ]
        }
      ]
    },
    {
      "cell_type": "code",
      "source": [
        "#control statments\n",
        "#break\n",
        "for q in \"python\":\n",
        "  if q=='h':\n",
        "    break\n",
        "  print(\"current letter\",q)\n",
        "print(\"_______\")\n",
        "#continue\n",
        "for q in \"python\":\n",
        "  if q=='h':\n",
        "    continue\n",
        "  print(\"current letter\",q)\n",
        "print(\"_______\")\n",
        "#pass\n",
        "for q in \"python\":\n",
        "  if q=='h':\n",
        "    pass\n",
        "    print(\"this is a pass block\")  \n",
        "  print(\"current letter\",q)"
      ],
      "metadata": {
        "colab": {
          "base_uri": "https://localhost:8080/"
        },
        "id": "OFr7keNjV_v5",
        "outputId": "f935768c-1e38-4e98-c126-74cbe7d433d9"
      },
      "execution_count": 13,
      "outputs": [
        {
          "output_type": "stream",
          "name": "stdout",
          "text": [
            "current letter p\n",
            "current letter y\n",
            "current letter t\n",
            "_______\n",
            "current letter p\n",
            "current letter y\n",
            "current letter t\n",
            "current letter o\n",
            "current letter n\n",
            "_______\n",
            "current letter p\n",
            "current letter y\n",
            "current letter t\n",
            "this is a pass block\n",
            "current letter h\n",
            "current letter o\n",
            "current letter n\n"
          ]
        }
      ]
    },
    {
      "cell_type": "code",
      "source": [
        "#functions\n",
        "def greet(name):\n",
        "  '''this funrction greets a person'''\n",
        "  print(\"hello,\\t \"+name+\" \\t good morning\")\n",
        "greet(\"nikhitha\")\n"
      ],
      "metadata": {
        "colab": {
          "base_uri": "https://localhost:8080/"
        },
        "id": "ygvCzc5PW8TE",
        "outputId": "7ef987dd-fcd0-4b1a-c583-f0eec1d3771a"
      },
      "execution_count": 16,
      "outputs": [
        {
          "output_type": "stream",
          "name": "stdout",
          "text": [
            "hello,\t nikhitha \t good morning\n"
          ]
        }
      ]
    },
    {
      "cell_type": "code",
      "source": [
        "#default\n",
        "def A(a,b=1,c=2):\n",
        "  return a+b+c\n",
        "print(A(3))\n",
        "print(A(4,4,4))"
      ],
      "metadata": {
        "colab": {
          "base_uri": "https://localhost:8080/"
        },
        "id": "wIN0pONfYZv1",
        "outputId": "6df302c4-e34f-4f5d-b855-99b4b21b6761"
      },
      "execution_count": 17,
      "outputs": [
        {
          "output_type": "stream",
          "name": "stdout",
          "text": [
            "6\n",
            "12\n"
          ]
        }
      ]
    },
    {
      "cell_type": "code",
      "source": [
        "#keyword\n",
        "def A(a,b=1,c=2):\n",
        "    return a+b+c\n",
        "print(A(a=2,b=3))\n",
        "print(A(c=4,a=4,b=4))"
      ],
      "metadata": {
        "colab": {
          "base_uri": "https://localhost:8080/"
        },
        "id": "b-jghgf-ZgRI",
        "outputId": "30ebf460-c5ac-4a21-e8e3-8fe7ab772b91"
      },
      "execution_count": 18,
      "outputs": [
        {
          "output_type": "stream",
          "name": "stdout",
          "text": [
            "7\n",
            "12\n"
          ]
        }
      ]
    },
    {
      "cell_type": "code",
      "source": [
        "#position \n",
        "def A(a,b,c):\n",
        "  return a+b+c\n",
        "print(A(10,20,30))"
      ],
      "metadata": {
        "colab": {
          "base_uri": "https://localhost:8080/"
        },
        "id": "5vTYtKxlZ9FG",
        "outputId": "bc08aa6f-0916-4e14-a1a1-c6c70f87d637"
      },
      "execution_count": 19,
      "outputs": [
        {
          "output_type": "stream",
          "name": "stdout",
          "text": [
            "60\n"
          ]
        }
      ]
    },
    {
      "cell_type": "code",
      "source": [
        "#arbitrary postional\n",
        "def add_num(*n):\n",
        "  print(sum(n))\n",
        "add_num=(1,2,3,4,5)"
      ],
      "metadata": {
        "id": "s1ZqyMQZaKGg"
      },
      "execution_count": 22,
      "outputs": []
    },
    {
      "cell_type": "code",
      "source": [
        "#arbitrary keyword\n",
        "def key_args(**kwargs):\n",
        "  return kwargs\n",
        "d=key_args(apples=10,bananas=20,cherries=30)\n",
        "print(d['apples'])\n",
        "print(d)"
      ],
      "metadata": {
        "colab": {
          "base_uri": "https://localhost:8080/"
        },
        "id": "t3pekRHYapuY",
        "outputId": "b5ada1cf-5ee0-4a9a-852a-f121b40e2c8f"
      },
      "execution_count": 25,
      "outputs": [
        {
          "output_type": "stream",
          "name": "stdout",
          "text": [
            "10\n",
            "{'apples': 10, 'bananas': 20, 'cherries': 30}\n"
          ]
        }
      ]
    },
    {
      "cell_type": "code",
      "source": [
        "#higher order functions\n",
        "def shout(text):\n",
        "  return text.upper()\n",
        "def whisper(text):\n",
        "  return text.lower()\n",
        "def explain(func):\n",
        "  greet=func('hi')\n",
        "  print(greet)\n",
        "explain (shout)\n",
        "explain (whisper)"
      ],
      "metadata": {
        "colab": {
          "base_uri": "https://localhost:8080/"
        },
        "id": "KbOoDPsibVXd",
        "outputId": "81862df0-fde8-4c5d-e227-f65cb8402656"
      },
      "execution_count": 26,
      "outputs": [
        {
          "output_type": "stream",
          "name": "stdout",
          "text": [
            "HI\n",
            "hi\n"
          ]
        }
      ]
    },
    {
      "cell_type": "code",
      "source": [],
      "metadata": {
        "id": "0ASPdKQ6cGwF"
      },
      "execution_count": null,
      "outputs": []
    }
  ]
}