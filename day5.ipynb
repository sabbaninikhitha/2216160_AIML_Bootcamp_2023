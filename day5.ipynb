{
  "nbformat": 4,
  "nbformat_minor": 0,
  "metadata": {
    "colab": {
      "provenance": [],
      "authorship_tag": "ABX9TyMi5OMC+6T7yQHQW56b+1r8",
      "include_colab_link": true
    },
    "kernelspec": {
      "name": "python3",
      "display_name": "Python 3"
    },
    "language_info": {
      "name": "python"
    }
  },
  "cells": [
    {
      "cell_type": "markdown",
      "metadata": {
        "id": "view-in-github",
        "colab_type": "text"
      },
      "source": [
        "<a href=\"https://colab.research.google.com/github/sabbaninikhitha/2216160_AIML_Bootcamp_2023/blob/main/day5.ipynb\" target=\"_parent\"><img src=\"https://colab.research.google.com/assets/colab-badge.svg\" alt=\"Open In Colab\"/></a>"
      ]
    },
    {
      "cell_type": "code",
      "execution_count": null,
      "metadata": {
        "id": "aO9xCqmsE8R-",
        "colab": {
          "base_uri": "https://localhost:8080/"
        },
        "outputId": "cc3b6ee3-5753-4625-93f4-6213eb0bf2cf"
      },
      "outputs": [
        {
          "output_type": "stream",
          "name": "stdout",
          "text": [
            "5\n",
            "4\n"
          ]
        }
      ],
      "source": [
        "#lambda function\n",
        "def inc(x):\n",
        "  x=x+1\n",
        "  return x\n",
        "print((lambda x:x+1)(4))\n",
        "inc(4)\n",
        "print((lambda x,y:x**y)(2,2))"
      ]
    },
    {
      "cell_type": "code",
      "source": [
        "#map\n",
        "l=[1,2,3,4]\n",
        "def fun(num):\n",
        "  return num+2\n",
        "res_list=list(map(inc,l))\n",
        "print(res_list)\n",
        "print(list(map(lambda x:x+2,l)))"
      ],
      "metadata": {
        "colab": {
          "base_uri": "https://localhost:8080/"
        },
        "id": "KCQjxG359Ngj",
        "outputId": "dcfd4561-1eff-41f4-9109-163322178c93"
      },
      "execution_count": null,
      "outputs": [
        {
          "output_type": "stream",
          "name": "stdout",
          "text": [
            "[2, 3, 4, 5]\n",
            "[3, 4, 5, 6]\n"
          ]
        }
      ]
    },
    {
      "cell_type": "code",
      "source": [
        "l1=['applEs','bAnana','cherries']\n",
        "print(list(map(lambda x:x.capitalize(),l1)))\n",
        "print(list(map(lambda x:x.upper(),l1)))\n",
        "print(list(map(lambda x:x.lower(),l1)))"
      ],
      "metadata": {
        "colab": {
          "base_uri": "https://localhost:8080/"
        },
        "id": "2aXVmxErFKU_",
        "outputId": "c1e61249-7621-4a9c-e7de-7c6601c98945"
      },
      "execution_count": null,
      "outputs": [
        {
          "output_type": "stream",
          "name": "stdout",
          "text": [
            "['Apples', 'Banana', 'Cherries']\n",
            "['APPLES', 'BANANA', 'CHERRIES']\n",
            "['apples', 'banana', 'cherries']\n"
          ]
        }
      ]
    },
    {
      "cell_type": "code",
      "source": [
        "def eor(num):\n",
        "  if num%2==0:\n",
        "    return \"the number {} is even\".format(num)\n",
        "  else:\n",
        "    return \"the number {} is odd\".format(num)\n",
        "eor(20)"
      ],
      "metadata": {
        "id": "YlqolViyG4e4",
        "colab": {
          "base_uri": "https://localhost:8080/",
          "height": 36
        },
        "outputId": "afc8f37c-aa29-462e-ab29-8ec6d901c65b"
      },
      "execution_count": null,
      "outputs": [
        {
          "output_type": "execute_result",
          "data": {
            "text/plain": [
              "'the number 20 is even'"
            ],
            "application/vnd.google.colaboratory.intrinsic+json": {
              "type": "string"
            }
          },
          "metadata": {},
          "execution_count": 9
        }
      ]
    },
    {
      "cell_type": "code",
      "source": [
        "l2=[1,2,3,4,5,6,7,8,9,10]\n",
        "list(map(eor,l2))"
      ],
      "metadata": {
        "colab": {
          "base_uri": "https://localhost:8080/"
        },
        "id": "PnuvWhCR-RY3",
        "outputId": "36cd4252-7dff-4192-a486-04c2e7b17c79"
      },
      "execution_count": null,
      "outputs": [
        {
          "output_type": "execute_result",
          "data": {
            "text/plain": [
              "['the number 1 is odd',\n",
              " 'the number 2 is even',\n",
              " 'the number 3 is odd',\n",
              " 'the number 4 is even',\n",
              " 'the number 5 is odd',\n",
              " 'the number 6 is even',\n",
              " 'the number 7 is odd',\n",
              " 'the number 8 is even',\n",
              " 'the number 9 is odd',\n",
              " 'the number 10 is even']"
            ]
          },
          "metadata": {},
          "execution_count": 11
        }
      ]
    },
    {
      "cell_type": "code",
      "source": [
        "#filter\n",
        "def odd_num(n):\n",
        "  if n%2!=0:\n",
        "    return n\n",
        "l=[1,2,3,4,5,6,7,8,9]\n",
        "print(list(filter(odd_num,l)))\n",
        "l=[1,2,3,4,5,6,7,8,9]\n",
        "print(list(filter(lambda x:x%2!=0,l)))"
      ],
      "metadata": {
        "colab": {
          "base_uri": "https://localhost:8080/"
        },
        "id": "8yVCdUK--f4N",
        "outputId": "5b60b340-430e-4c26-9b72-3a216105b360"
      },
      "execution_count": null,
      "outputs": [
        {
          "output_type": "stream",
          "name": "stdout",
          "text": [
            "[1, 3, 5, 7, 9]\n",
            "[1, 3, 5, 7, 9]\n"
          ]
        }
      ]
    },
    {
      "cell_type": "code",
      "source": [
        "#class and object\n",
        "class c:\n",
        "  def addn(self,a,b):\n",
        "    return a+b\n",
        "  def subn(self,a,b):\n",
        "    return a-b\n",
        "O=c()\n",
        "print(\"addition=\",O.addn(5,5))\n",
        "print(\"subtraction=\",O.subn(10,5))"
      ],
      "metadata": {
        "colab": {
          "base_uri": "https://localhost:8080/"
        },
        "id": "mJ2lf4z-_mHx",
        "outputId": "3db265a1-4312-4179-9fe0-0893d9625eb6"
      },
      "execution_count": null,
      "outputs": [
        {
          "output_type": "stream",
          "name": "stdout",
          "text": [
            "addition= 10\n",
            "subtraction= 5\n"
          ]
        }
      ]
    },
    {
      "cell_type": "code",
      "source": [
        "#inheritance\n",
        "class animal:\n",
        "  def animal_sound(self):\n",
        "    return \"makes sound\"\n",
        "class cat(animal):\n",
        "  def cat_sound(self):\n",
        "    return self.animal_sound()+\" meow\"\n",
        "  def __str__(self):\n",
        "    return \"cat\"\n",
        "co=cat()\n",
        "print(co,co.cat_sound())"
      ],
      "metadata": {
        "colab": {
          "base_uri": "https://localhost:8080/"
        },
        "id": "-i44CdO4Beld",
        "outputId": "ca909678-a636-446b-dbf5-0f54f3232fc2"
      },
      "execution_count": null,
      "outputs": [
        {
          "output_type": "stream",
          "name": "stdout",
          "text": [
            "cat makes sound meow\n"
          ]
        }
      ]
    },
    {
      "cell_type": "code",
      "source": [
        "#heiarchial inheritance\n",
        "class animal:\n",
        "  def animal_sound(self):\n",
        "    return \"makes sound\"\n",
        "class cat(animal):\n",
        "  def cat_sound(self):\n",
        "    return self.animal_sound()+\" meow\"\n",
        "  def __str__(self):\n",
        "    return \"cat\"\n",
        "class dog(animal):\n",
        "  def dog_sound(self):\n",
        "    return self.animal_sound()+\" bow\"\n",
        "  def __str__(self):\n",
        "    return \"dog\"  \n",
        "co=cat()\n",
        "print(co,co.cat_sound())\n",
        "bo=dog()\n",
        "print(bo,bo.dog_sound())"
      ],
      "metadata": {
        "colab": {
          "base_uri": "https://localhost:8080/"
        },
        "id": "C66E36NDCo3S",
        "outputId": "d4c231fb-203c-4647-9439-5368b04c6746"
      },
      "execution_count": null,
      "outputs": [
        {
          "output_type": "stream",
          "name": "stdout",
          "text": [
            "cat makes sound meow\n",
            "dog makes sound bow\n"
          ]
        }
      ]
    },
    {
      "cell_type": "code",
      "source": [
        "#multilevel inheritance \n",
        "class animal:\n",
        "  def animal_sound(self):\n",
        "    return \"makes sound\"\n",
        "class cat(animal):\n",
        "  def cat_sound(self):\n",
        "    return self.animal_sound()+\" meow\"\n",
        "class catcolor(cat):\n",
        "  def __str__(self):\n",
        "    return \"cat\"\n",
        "  def color(self):\n",
        "    return \"color is black\"\n",
        "cc=catcolor()\n",
        "print(cc,cc.cat_sound())\n",
        "print(cc,cc.color())"
      ],
      "metadata": {
        "colab": {
          "base_uri": "https://localhost:8080/"
        },
        "id": "IyrlJldwFSEX",
        "outputId": "298e14d8-eac1-433e-f1d7-74d70fd50593"
      },
      "execution_count": null,
      "outputs": [
        {
          "output_type": "stream",
          "name": "stdout",
          "text": [
            "cat makes sound meow\n",
            "cat color is black\n"
          ]
        }
      ]
    },
    {
      "cell_type": "code",
      "source": [],
      "metadata": {
        "id": "2hMJrxb-G2V6"
      },
      "execution_count": null,
      "outputs": []
    }
  ]
}