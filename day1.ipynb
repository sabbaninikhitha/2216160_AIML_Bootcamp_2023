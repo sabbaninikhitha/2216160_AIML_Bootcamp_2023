{
  "nbformat": 4,
  "nbformat_minor": 0,
  "metadata": {
    "colab": {
      "provenance": [],
      "authorship_tag": "ABX9TyO9j23Lg3fHkiVEcw/4PuJf",
      "include_colab_link": true
    },
    "kernelspec": {
      "name": "python3",
      "display_name": "Python 3"
    },
    "language_info": {
      "name": "python"
    }
  },
  "cells": [
    {
      "cell_type": "markdown",
      "metadata": {
        "id": "view-in-github",
        "colab_type": "text"
      },
      "source": [
        "<a href=\"https://colab.research.google.com/github/sabbaninikhitha/2216160_AIML_Bootcamp_2023/blob/main/day1.ipynb\" target=\"_parent\"><img src=\"https://colab.research.google.com/assets/colab-badge.svg\" alt=\"Open In Colab\"/></a>"
      ]
    },
    {
      "cell_type": "code",
      "execution_count": 1,
      "metadata": {
        "colab": {
          "base_uri": "https://localhost:8080/"
        },
        "id": "xGVO3IsKFu7h",
        "outputId": "df7d67a0-4b0e-4e10-fbf5-e53a53abed16"
      },
      "outputs": [
        {
          "output_type": "stream",
          "name": "stdout",
          "text": [
            "100 100.0 hi nikhitha\n",
            "2.0\n",
            "25.0\n"
          ]
        }
      ],
      "source": [
        "#varibles\n",
        "a=100 #int\n",
        "amount=100.00 #float\n",
        "str1=\"hi\"\n",
        "str2=\"nikhitha\"\n",
        "comp=2+25j\n",
        "print(a,amount,str1,str2)\n",
        "print(comp.real)\n",
        "print(comp.imag)"
      ]
    },
    {
      "cell_type": "code",
      "source": [
        "#data types\n",
        "#int\n",
        "a=100\n",
        "b=1+2j\n",
        "#float\n",
        "amount=120.00\n",
        "#text\n",
        "str1=\"hi\"\n",
        "#sequence type\n",
        "li={1,2,3,4}\n",
        "tup={1,2,3,4}\n",
        "#maping\n",
        "my_dict={\"apple\":\"red\"}\n",
        "#noen\n",
        "x=None\n",
        "#binary \n",
        "x=b\"hello\" #byte\n",
        "x=bytearray(5) #bytearray\n",
        "x=memoryview(bytes(4)) #memory view\n"
      ],
      "metadata": {
        "id": "qgC1-AEcF2F3"
      },
      "execution_count": 2,
      "outputs": []
    },
    {
      "cell_type": "code",
      "source": [
        "#explict conversion\n",
        "b=2\n",
        "c=3.0\n",
        "d=int(c)\n",
        "e=float(b)\n",
        "print(d,e)\n",
        "#implict conversion\n",
        "f=3\n",
        "g=4.0\n",
        "h=print(f+g)\n",
        "i=3\n",
        "s1=str(i)\n",
        "print(s1)\n",
        "j=int(s1)\n",
        "print(j)"
      ],
      "metadata": {
        "colab": {
          "base_uri": "https://localhost:8080/"
        },
        "id": "QoZWW0c1F4GV",
        "outputId": "82f7b506-1753-4c42-c80a-988639961cdc"
      },
      "execution_count": 3,
      "outputs": [
        {
          "output_type": "stream",
          "name": "stdout",
          "text": [
            "3 2.0\n",
            "7.0\n",
            "3\n",
            "3\n"
          ]
        }
      ]
    }
  ]
}