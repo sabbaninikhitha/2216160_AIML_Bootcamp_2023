{
  "nbformat": 4,
  "nbformat_minor": 0,
  "metadata": {
    "colab": {
      "provenance": [],
      "authorship_tag": "ABX9TyOadpko5O2ATfXegrgVu5iV",
      "include_colab_link": true
    },
    "kernelspec": {
      "name": "python3",
      "display_name": "Python 3"
    },
    "language_info": {
      "name": "python"
    }
  },
  "cells": [
    {
      "cell_type": "markdown",
      "metadata": {
        "id": "view-in-github",
        "colab_type": "text"
      },
      "source": [
        "<a href=\"https://colab.research.google.com/github/sabbaninikhitha/2216160_AIML_Bootcamp_2023/blob/main/Assignment_1.ipynb\" target=\"_parent\"><img src=\"https://colab.research.google.com/assets/colab-badge.svg\" alt=\"Open In Colab\"/></a>"
      ]
    },
    {
      "cell_type": "code",
      "source": [
        "#1.Methods of string\n",
        "x='SR University is in warangal'\n",
        "print(len(x))\n",
        "print(x.upper())\n",
        "print(x.lower())\n",
        "print(x.capitalize())#first letter of the snetence is captialized\n",
        "print(x.title())#first letter of each word  is capitalized \n",
        "print(x.swapcase())#swap lower and upper\n",
        "print(x.startswith('S'))#checks whether sentence start with s\n",
        "print(x.endswith('i'))"
      ],
      "metadata": {
        "colab": {
          "base_uri": "https://localhost:8080/"
        },
        "id": "UrP-KL4WXjLk",
        "outputId": "d980053a-f3f1-4bc3-e00d-d7bde957853d"
      },
      "execution_count": null,
      "outputs": [
        {
          "output_type": "stream",
          "name": "stdout",
          "text": [
            "28\n",
            "SR UNIVERSITY IS IN WARANGAL\n",
            "sr university is in warangal\n",
            "Sr university is in warangal\n",
            "Sr University Is In Warangal\n",
            "sr uNIVERSITY IS IN WARANGAL\n",
            "True\n",
            "False\n"
          ]
        }
      ]
    },
    {
      "cell_type": "code",
      "source": [
        "x='Nikhitha'\n",
        "print(x.isalpha())\n",
        "print(x.isalnum())\n",
        "print(x.isascii())\n",
        "print(x.islower())\n",
        "print(x.isnumeric())\n",
        "print(x.find('h'))#index of h\n",
        "print(x.count('i'))#count of i\n",
        "print(x.replace('a','a.Sabbani'))"
      ],
      "metadata": {
        "colab": {
          "base_uri": "https://localhost:8080/"
        },
        "id": "a1tvN-U8csxg",
        "outputId": "e22ae39a-a039-4492-f00b-fa546049b4df"
      },
      "execution_count": null,
      "outputs": [
        {
          "output_type": "stream",
          "name": "stdout",
          "text": [
            "True\n",
            "True\n",
            "True\n",
            "False\n",
            "False\n",
            "3\n",
            "2\n",
            "Nikhitha.Sabbani\n"
          ]
        }
      ]
    },
    {
      "cell_type": "code",
      "source": [
        "#2.Methods of list\n",
        "l=['a','b','c','d','e']\n",
        "print(l)\n",
        "print(len(l))\n",
        "l.append('f')\n",
        "print(l)\n",
        "l.insert(0,\"alphabets\")\n",
        "print(l)\n",
        "l1=['g','h','i']\n",
        "l.extend(l1)\n",
        "print(l)\n",
        "l.remove('h')\n",
        "print(l)\n",
        "l.pop(0)\n",
        "print(l)\n",
        "del l[7]\n",
        "print(l)\n",
        "l.reverse()\n",
        "print(l)\n",
        "l.clear()\n",
        "print(l)"
      ],
      "metadata": {
        "colab": {
          "base_uri": "https://localhost:8080/"
        },
        "id": "XFf1lNgxfOBm",
        "outputId": "a8170446-3d99-4a5e-f848-3b88d870ceab"
      },
      "execution_count": null,
      "outputs": [
        {
          "output_type": "stream",
          "name": "stdout",
          "text": [
            "['a', 'b', 'c', 'd', 'e']\n",
            "5\n",
            "['a', 'b', 'c', 'd', 'e', 'f']\n",
            "['alphabets', 'a', 'b', 'c', 'd', 'e', 'f']\n",
            "['alphabets', 'a', 'b', 'c', 'd', 'e', 'f', 'g', 'h', 'i']\n",
            "['alphabets', 'a', 'b', 'c', 'd', 'e', 'f', 'g', 'i']\n",
            "['a', 'b', 'c', 'd', 'e', 'f', 'g', 'i']\n",
            "['a', 'b', 'c', 'd', 'e', 'f', 'g']\n",
            "['g', 'f', 'e', 'd', 'c', 'b', 'a']\n",
            "[]\n"
          ]
        }
      ]
    },
    {
      "cell_type": "code",
      "source": [
        "#3.Methods of tupple\n",
        "t=('air','bag','car','bag')\n",
        "print(t)\n",
        "print(len(t))\n",
        "y=('door',)\n",
        "t+=y\n",
        "print(t)\n",
        "x=t.count('bag')\n",
        "print(x)\n",
        "z=t.index('car')\n",
        "print(z)"
      ],
      "metadata": {
        "colab": {
          "base_uri": "https://localhost:8080/"
        },
        "id": "LkQb4NDQs93Z",
        "outputId": "844a7bf7-31e8-4e84-f625-f27947d46ea8"
      },
      "execution_count": null,
      "outputs": [
        {
          "output_type": "stream",
          "name": "stdout",
          "text": [
            "('air', 'bag', 'car', 'bag')\n",
            "4\n",
            "('air', 'bag', 'car', 'bag', 'door')\n",
            "2\n",
            "2\n"
          ]
        }
      ]
    },
    {
      "cell_type": "code",
      "source": [
        "#4.Methods of dictionary\n",
        "d={\"name\":\"nikhitha\",\"surname\":\"sabbani\",\"no\":12234}\n",
        "print(d)\n",
        "d.update({'year':2002})\n",
        "print(d)\n",
        "x=d.get(\"name\")\n",
        "print(x)\n",
        "y=d.items()\n",
        "print(y)\n",
        "z=d.values()\n",
        "print(z)\n",
        "d.pop(\"surname\")\n",
        "print(d)\n",
        "d.popitem()\n",
        "print(d)\n",
        "d.clear()\n",
        "print(d)"
      ],
      "metadata": {
        "colab": {
          "base_uri": "https://localhost:8080/"
        },
        "id": "zreuvna2xLe5",
        "outputId": "b47466df-fcdd-45e9-b2da-881e50a9f677"
      },
      "execution_count": null,
      "outputs": [
        {
          "output_type": "stream",
          "name": "stdout",
          "text": [
            "{'name': 'nikhitha', 'surname': 'sabbani', 'no': 12234}\n",
            "{'name': 'nikhitha', 'surname': 'sabbani', 'no': 12234, 'year': 2002}\n",
            "nikhitha\n",
            "dict_items([('name', 'nikhitha'), ('surname', 'sabbani'), ('no', 12234), ('year', 2002)])\n",
            "dict_values(['nikhitha', 'sabbani', 12234, 2002])\n",
            "{'name': 'nikhitha', 'no': 12234, 'year': 2002}\n",
            "{'name': 'nikhitha', 'no': 12234}\n",
            "{}\n"
          ]
        }
      ]
    },
    {
      "cell_type": "code",
      "source": [
        "#5.Methods of sets\n",
        "s1={1,2,3,4,5,6}\n",
        "s2={5,6,7,8,9,10}\n",
        "s1|s2\n",
        "print(s1.union(s2))\n",
        "s1&s2\n",
        "print(s1.intersection(s2))\n",
        "print(s1.difference(s2))\n",
        "s1^s2\n",
        "print(s1.issubset(s2))\n",
        "s1.add(9)\n",
        "print(s1)\n",
        "s3=s1.copy()\n",
        "print(s3)\n",
        "s2.pop()\n",
        "print(s2)\n",
        "s2.remove(6)\n",
        "print(s2)\n",
        "s4={19,18,17}\n",
        "s1.update(s4)\n",
        "print(s1)\n",
        "s1.discard(6)\n",
        "print(s1)\n",
        "s1.clear()\n",
        "print(s1)"
      ],
      "metadata": {
        "colab": {
          "base_uri": "https://localhost:8080/"
        },
        "id": "p2RSmDj3ya5J",
        "outputId": "cf9ed031-9687-4f2d-bd8d-50421bfaf225"
      },
      "execution_count": null,
      "outputs": [
        {
          "output_type": "stream",
          "name": "stdout",
          "text": [
            "{1, 2, 3, 4, 5, 6, 7, 8, 9, 10}\n",
            "{5, 6}\n",
            "{1, 2, 3, 4}\n",
            "False\n",
            "{1, 2, 3, 4, 5, 6, 9}\n",
            "{1, 2, 3, 4, 5, 6, 9}\n",
            "{6, 7, 8, 9, 10}\n",
            "{7, 8, 9, 10}\n",
            "{1, 2, 3, 4, 5, 6, 9, 17, 18, 19}\n",
            "{1, 2, 3, 4, 5, 9, 17, 18, 19}\n",
            "set()\n"
          ]
        }
      ]
    },
    {
      "cell_type": "code",
      "source": [
        "#6.convert Decimal to Binary, Octal and Hexadecimal with direct method.\n",
        "n = int(input(\"Enter an integer: \"))\n",
        " \n",
        "print(\"The decimal value of\", n, \"is:\")\n",
        "print(bin(n), \"in binary.\")\n",
        "print(oct(n), \"in octal.\")\n",
        "print(hex(n), \"in hexadecimal.\")"
      ],
      "metadata": {
        "colab": {
          "base_uri": "https://localhost:8080/"
        },
        "id": "hIpdO0nlYkN4",
        "outputId": "c5fef5f0-0f34-4804-c9f7-b76646994591"
      },
      "execution_count": null,
      "outputs": [
        {
          "output_type": "stream",
          "name": "stdout",
          "text": [
            "Enter an integer: 12\n",
            "The decimal value of 12 is:\n",
            "0b1100 in binary.\n",
            "0o14 in octal.\n",
            "0xc in hexadecimal.\n"
          ]
        }
      ]
    },
    {
      "cell_type": "code",
      "execution_count": null,
      "metadata": {
        "colab": {
          "base_uri": "https://localhost:8080/"
        },
        "id": "oOZzTtS1RAgc",
        "outputId": "f5565c2d-1b58-4abc-bd2b-ecb5f61d019c"
      },
      "outputs": [
        {
          "output_type": "stream",
          "name": "stdout",
          "text": [
            "enter first integer:3\n",
            "enter second integer:4\n",
            "sum of  3 and 4 is 7\n",
            "subtraction of 3 and 4 is -1\n",
            "multiplication of 3 and 4 is 12\n",
            "division of 3 and 4 is 0.75\n",
            "modulus of 3 and 4 is 3\n",
            "floor division of 3 and 4 is 0\n",
            "power of 3 and 4 is 81\n"
          ]
        }
      ],
      "source": [
        "\n",
        "#7.Arthmetic operators\n",
        "a=int(input(\"enter first integer:\"))\n",
        "b=int(input(\"enter second integer:\"))\n",
        "print(\"sum of \",a,\"and\",b,\"is\",(a+b))\n",
        "print(\"subtraction of\",a,\"and\",b,\"is\",(a-b))\n",
        "print(\"multiplication of\",a,\"and\",b,\"is\",(a*b))\n",
        "print(\"division of\",a,\"and\",b,\"is\",(a/b))\n",
        "print(\"modulus of\",a,\"and\",b,\"is\",(a%b))\n",
        "print(\"floor division of\",a,\"and\",b,\"is\",(a//b))\n",
        "print(\"power of\",a,\"and\",b,\"is\",(a**b))"
      ]
    },
    {
      "cell_type": "code",
      "source": [
        "#8.Assignment operators\n",
        "a=int(input(\"enter first integer:\"))\n",
        "b=int(input(\"enter second integer\"))\n",
        "a+=b\n",
        "print(a)\n",
        "a-=b\n",
        "print(a)\n",
        "a*=b\n",
        "print(a)\n",
        "a/=b\n",
        "print(a)\n",
        "a**=b\n",
        "print(a)\n",
        "a//=b\n",
        "print(a)\n",
        "a%=b\n",
        "print(a)"
      ],
      "metadata": {
        "colab": {
          "base_uri": "https://localhost:8080/"
        },
        "id": "sX25I2MtRSDo",
        "outputId": "71262879-dea9-45b1-a112-f6ed043dbc97"
      },
      "execution_count": null,
      "outputs": [
        {
          "output_type": "stream",
          "name": "stdout",
          "text": [
            "enter first integer:2\n",
            "enter second integer3\n",
            "5\n",
            "2\n",
            "6\n",
            "2.0\n",
            "8.0\n",
            "2.0\n",
            "2.0\n"
          ]
        }
      ]
    },
    {
      "cell_type": "code",
      "source": [
        "#9.Comparsion operators\n",
        "a=int(input(\"enter first integer:\"))\n",
        "b=int(input(\"enter second integer:\"))\n",
        "print((a<b))\n",
        "print((a<=b))\n",
        "print((a>b))\n",
        "print((a>=b))\n",
        "print((a==b))\n",
        "print((a!=b))"
      ],
      "metadata": {
        "colab": {
          "base_uri": "https://localhost:8080/"
        },
        "id": "eX-5anw6Rnxb",
        "outputId": "a4de3ddc-5afd-4b46-83d5-cb9911d84d71"
      },
      "execution_count": null,
      "outputs": [
        {
          "output_type": "stream",
          "name": "stdout",
          "text": [
            "enter first integer:8\n",
            "enter second integer:4\n",
            "False\n",
            "False\n",
            "True\n",
            "True\n",
            "False\n",
            "True\n"
          ]
        }
      ]
    },
    {
      "cell_type": "code",
      "source": [
        "#10.Logical operators\n",
        "c=int(input(\"enter first integer:\"))\n",
        "d=int(input(\"enter second integer\"))\n",
        "print((c>d)and(c<=d))\n",
        "print((c<d)or(c>=d))\n",
        "print(not(c!=d))"
      ],
      "metadata": {
        "colab": {
          "base_uri": "https://localhost:8080/"
        },
        "id": "d93lwM1ORrKg",
        "outputId": "0d003cb6-eb01-4750-deea-607baac19f0f"
      },
      "execution_count": null,
      "outputs": [
        {
          "output_type": "stream",
          "name": "stdout",
          "text": [
            "enter first integer:3\n",
            "enter second integer5\n",
            "False\n",
            "True\n",
            "False\n"
          ]
        }
      ]
    },
    {
      "cell_type": "code",
      "source": [
        "#11.bitwise operators\n",
        "a=int(input(\"enter first integer:\"))\n",
        "b=int(input(\"enter second integer\"))\n",
        "print(a&b)\n",
        "print(a/b)\n",
        "print(a^b)\n",
        "print(a<<1)\n",
        "print(a>>2)\n",
        "print(b<<3)\n"
      ],
      "metadata": {
        "colab": {
          "base_uri": "https://localhost:8080/"
        },
        "id": "_9BLv39oR4YJ",
        "outputId": "9964eae8-7f9e-49f7-f23e-be7daf24a1a5"
      },
      "execution_count": null,
      "outputs": [
        {
          "output_type": "stream",
          "name": "stdout",
          "text": [
            "enter first integer:20\n",
            "enter second integer10\n",
            "0\n",
            "2.0\n",
            "30\n",
            "40\n",
            "5\n",
            "80\n"
          ]
        }
      ]
    },
    {
      "cell_type": "code",
      "source": [
        "#12.membership operators \n",
        "x=\"Nikhitha\"\n",
        "print('a' in x)"
      ],
      "metadata": {
        "id": "QNnnqmftR_oY",
        "colab": {
          "base_uri": "https://localhost:8080/"
        },
        "outputId": "7b9945a0-8d92-449f-86e5-4bf77841a443"
      },
      "execution_count": null,
      "outputs": [
        {
          "output_type": "stream",
          "name": "stdout",
          "text": [
            "True\n"
          ]
        }
      ]
    },
    {
      "cell_type": "code",
      "source": [
        "#13.Indentity operators\n",
        "a=10\n",
        "b=20\n",
        "print(a is b)\n",
        "print(a is not b)"
      ],
      "metadata": {
        "colab": {
          "base_uri": "https://localhost:8080/"
        },
        "id": "DsIE_u8MWgCU",
        "outputId": "05595214-cd9c-40b1-88db-1b421e2ba6c3"
      },
      "execution_count": null,
      "outputs": [
        {
          "output_type": "stream",
          "name": "stdout",
          "text": [
            "False\n",
            "True\n"
          ]
        }
      ]
    },
    {
      "cell_type": "code",
      "source": [
        "#14.list slicing indexing\n",
        "l=[1,2,3,4,5,6,7,8,9]\n",
        "print(l[-7::1])\n",
        "print(l[1:4])\n",
        "print(l[1:2:8])\n",
        "print(l[::2])\n",
        "print(l[::])"
      ],
      "metadata": {
        "id": "AfIG-eCkWmwz",
        "colab": {
          "base_uri": "https://localhost:8080/"
        },
        "outputId": "3e3c3f16-1b0a-4f21-b9f8-2be45146e2d0"
      },
      "execution_count": null,
      "outputs": [
        {
          "output_type": "stream",
          "name": "stdout",
          "text": [
            "[3, 4, 5, 6, 7, 8, 9]\n",
            "[2, 3, 4]\n",
            "[2]\n",
            "[1, 3, 5, 7, 9]\n",
            "[1, 2, 3, 4, 5, 6, 7, 8, 9]\n"
          ]
        }
      ]
    },
    {
      "cell_type": "code",
      "source": [
        "#15.Predict the output for the given code snippet and justify the result.\n",
        "print('A series of characters designates as one object known as a string'[::-1][4::3])\n",
        "print(\"----------\")\n",
        "print('welcome to python training program'[3:10][::-1])"
      ],
      "metadata": {
        "colab": {
          "base_uri": "https://localhost:8080/"
        },
        "id": "msir98ONYMlJ",
        "outputId": "39455424-efac-45d0-ccc6-5929387d3655"
      },
      "execution_count": null,
      "outputs": [
        {
          "output_type": "stream",
          "name": "stdout",
          "text": [
            "taawkcbe  tgestrcoeeA\n",
            "----------\n",
            "ot emoc\n"
          ]
        }
      ]
    },
    {
      "cell_type": "code",
      "source": [
        "#16.\tWrite a python code to get desired output\n",
        "a=\"was it a car or a cat I saw\"\n",
        "y=(a[::-1])\n",
        "print(y.upper())"
      ],
      "metadata": {
        "id": "lh97VcGTcSA1",
        "colab": {
          "base_uri": "https://localhost:8080/"
        },
        "outputId": "5e278bab-291a-46db-9bf7-7e5267282264"
      },
      "execution_count": 6,
      "outputs": [
        {
          "output_type": "stream",
          "name": "stdout",
          "text": [
            "WAS I TAC A RO RAC A TI SAW\n"
          ]
        }
      ]
    },
    {
      "cell_type": "code",
      "source": [
        "#17.You are required to generate a word similar to ZOO, X and Y that denote the number of Zs and Os respectively. The generated word similar to ZOO where Y= 2 * X\n",
        "X=int(input(\"enter x value\"))\n",
        "print(X*'Z'+(2*X*'O'))"
      ],
      "metadata": {
        "colab": {
          "base_uri": "https://localhost:8080/"
        },
        "id": "q3Djtr9edNoT",
        "outputId": "a3c611a0-33d1-4d28-d533-4ed1ffc0e552"
      },
      "execution_count": null,
      "outputs": [
        {
          "output_type": "stream",
          "name": "stdout",
          "text": [
            "enter x value5\n",
            "ZZZZZOOOOOOOOOO\n"
          ]
        }
      ]
    }
  ]
}